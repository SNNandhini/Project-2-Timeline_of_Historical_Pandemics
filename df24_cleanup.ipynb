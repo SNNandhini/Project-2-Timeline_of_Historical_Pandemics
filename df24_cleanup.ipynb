{
 "cells": [
  {
   "cell_type": "code",
   "execution_count": 2,
   "metadata": {
    "collapsed": true,
    "pycharm": {
     "name": "#%%\n"
    }
   },
   "outputs": [],
   "source": [
    "import csv\n",
    "import numpy as np\n",
    "import pandas as pd"
   ]
  },
  {
   "cell_type": "code",
   "execution_count": 3,
   "outputs": [
    {
     "data": {
      "text/plain": "   Unnamed: 0                       vteHistory of medicine  \\\n0           0  Timeline of medicine and medical technology   \n1           1                  Histories of basic sciences   \n2           2             Histories of medical specialties   \n3           3                Medicine in ancient societies   \n4           4               History of methods in medicine   \n\n                            vteHistory of medicine.1  \\\n0        Timeline of medicine and medical technology   \n1  Anatomy Biochemistry Biology Biotechnology Che...   \n2  Alternative medicine Anesthesia General Neurax...   \n3  Prehistory Babylon Byzantinia Ancient Egypt Eg...   \n4  Antibiotics Timeline Blood transfusion Humoris...   \n\n                      vteHistory of medicine.2  \n0  Timeline of medicine and medical technology  \n1                                          NaN  \n2                                          NaN  \n3                                          NaN  \n4                                          NaN  ",
      "text/html": "<div>\n<style scoped>\n    .dataframe tbody tr th:only-of-type {\n        vertical-align: middle;\n    }\n\n    .dataframe tbody tr th {\n        vertical-align: top;\n    }\n\n    .dataframe thead th {\n        text-align: right;\n    }\n</style>\n<table border=\"1\" class=\"dataframe\">\n  <thead>\n    <tr style=\"text-align: right;\">\n      <th></th>\n      <th>Unnamed: 0</th>\n      <th>vteHistory of medicine</th>\n      <th>vteHistory of medicine.1</th>\n      <th>vteHistory of medicine.2</th>\n    </tr>\n  </thead>\n  <tbody>\n    <tr>\n      <th>0</th>\n      <td>0</td>\n      <td>Timeline of medicine and medical technology</td>\n      <td>Timeline of medicine and medical technology</td>\n      <td>Timeline of medicine and medical technology</td>\n    </tr>\n    <tr>\n      <th>1</th>\n      <td>1</td>\n      <td>Histories of basic sciences</td>\n      <td>Anatomy Biochemistry Biology Biotechnology Che...</td>\n      <td>NaN</td>\n    </tr>\n    <tr>\n      <th>2</th>\n      <td>2</td>\n      <td>Histories of medical specialties</td>\n      <td>Alternative medicine Anesthesia General Neurax...</td>\n      <td>NaN</td>\n    </tr>\n    <tr>\n      <th>3</th>\n      <td>3</td>\n      <td>Medicine in ancient societies</td>\n      <td>Prehistory Babylon Byzantinia Ancient Egypt Eg...</td>\n      <td>NaN</td>\n    </tr>\n    <tr>\n      <th>4</th>\n      <td>4</td>\n      <td>History of methods in medicine</td>\n      <td>Antibiotics Timeline Blood transfusion Humoris...</td>\n      <td>NaN</td>\n    </tr>\n  </tbody>\n</table>\n</div>"
     },
     "execution_count": 3,
     "metadata": {},
     "output_type": "execute_result"
    }
   ],
   "source": [
    "# Read in the data\n",
    "df = pd.read_csv('Resources/df_24.csv')\n",
    "df.head()"
   ],
   "metadata": {
    "collapsed": false,
    "pycharm": {
     "name": "#%%\n"
    }
   }
  },
  {
   "cell_type": "code",
   "execution_count": 9,
   "outputs": [],
   "source": [
    "def read_rows(filename):\n",
    "    with open(filename, 'r') as f:\n",
    "        reader = csv.reader(f)\n",
    "        for row in reader:\n",
    "            # skip the header\n",
    "            if row[0].isnumeric():\n",
    "                yield row\n",
    "\n",
    "\n",
    "def extract_name(name_string):\n",
    "    result_list = []\n",
    "    med_list = name_string.split(' ')\n",
    "\n",
    "    # Use a for loop to iterate over the list\n",
    "    temp = \"\"\n",
    "    for word in med_list:\n",
    "        if word[0].isupper():\n",
    "            # Add the word to the list\n",
    "            if temp:\n",
    "                result_list.append(temp)\n",
    "\n",
    "            temp = word\n",
    "        else:\n",
    "            temp += \" \" + word\n",
    "\n",
    "    result_list.append(temp)\n",
    "\n",
    "    return result_list\n",
    "\n",
    "\n",
    "def main():\n",
    "    results = []\n",
    "    for row in read_rows('Resources/df_24.csv'):\n",
    "        title = row[1]\n",
    "\n",
    "        name_string = row[2]\n",
    "\n",
    "        result = []\n",
    "        result.append(title)\n",
    "\n",
    "        result += extract_name(name_string)\n",
    "        results.append(result)\n",
    "\n",
    "        # print(result)\n",
    "\n",
    "    return results\n",
    "\n",
    "results = main()"
   ],
   "metadata": {
    "collapsed": false,
    "pycharm": {
     "name": "#%%\n"
    }
   }
  },
  {
   "cell_type": "code",
   "execution_count": 11,
   "outputs": [],
   "source": [
    "results\n",
    "del results[0]\n"
   ],
   "metadata": {
    "collapsed": false,
    "pycharm": {
     "name": "#%%\n"
    }
   }
  },
  {
   "cell_type": "code",
   "execution_count": 13,
   "outputs": [
    {
     "data": {
      "text/plain": "[['Histories of basic sciences',\n  'Anatomy',\n  'Biochemistry',\n  'Biology',\n  'Biotechnology',\n  'Chemistry',\n  'Embryology',\n  'Genetics',\n  'Immunology',\n  'Timeline',\n  'Medical diagnosis',\n  'Microbiology',\n  'Molecular biology',\n  'Neuroscience',\n  'Nutrition',\n  'Pathology',\n  'Pharmacology',\n  'Physiology',\n  'Virology',\n  'Viruses'],\n ['Histories of medical specialties',\n  'Alternative medicine',\n  'Anesthesia',\n  'General',\n  'Neuraxial',\n  'Cancer',\n  'Cardiology (invasive and interventional)',\n  'Dental treatments',\n  'Dermatology',\n  'Emergency medicine',\n  'CPR',\n  'Endocrinology',\n  'Neurology',\n  'Psychiatry',\n  'Timeline',\n  'Psychiatric institutions',\n  'Psychosurgery',\n  'Surgery',\n  'Trauma and orthopaedics'],\n ['Medicine in ancient societies',\n  'Prehistory',\n  'Babylon',\n  'Byzantinia',\n  'Ancient',\n  'Egypt',\n  'Egyptian medical papyri',\n  'Ancient',\n  'Greece',\n  'Ancient',\n  'Iran',\n  'Ancient',\n  'Rome',\n  'Medieval',\n  'Islam',\n  'Medieval',\n  'Western',\n  'Europe'],\n ['History of methods in medicine',\n  'Antibiotics',\n  'Timeline',\n  'Blood transfusion',\n  'Humorism',\n  'Neuroimaging',\n  'Radiation therapy',\n  'Tracheal intubation',\n  'Vaccines',\n  'Timeline',\n  'Wound care'],\n ['Disasters and plagues',\n  'Black',\n  'Death',\n  'List of epidemics',\n  'Malaria',\n  'Pandemics',\n  'Plague',\n  'Poliomyelitis',\n  'Smallpox',\n  'Syphilis',\n  'Tuberculosis']]"
     },
     "execution_count": 13,
     "metadata": {},
     "output_type": "execute_result"
    }
   ],
   "source": [
    "del results[-1]\n",
    "results"
   ],
   "metadata": {
    "collapsed": false,
    "pycharm": {
     "name": "#%%\n"
    }
   }
  },
  {
   "cell_type": "code",
   "execution_count": 18,
   "outputs": [
    {
     "name": "stdout",
     "output_type": "stream",
     "text": [
      "    Histories of basic sciences          Histories of medical specialties  \\\n",
      "0   Histories of basic sciences          Histories of medical specialties   \n",
      "1                       Anatomy                      Alternative medicine   \n",
      "2                  Biochemistry                                Anesthesia   \n",
      "3                       Biology                                   General   \n",
      "4                 Biotechnology                                 Neuraxial   \n",
      "5                     Chemistry                                    Cancer   \n",
      "6                    Embryology  Cardiology (invasive and interventional)   \n",
      "7                      Genetics                         Dental treatments   \n",
      "8                    Immunology                               Dermatology   \n",
      "9                      Timeline                        Emergency medicine   \n",
      "10            Medical diagnosis                                       CPR   \n",
      "11                 Microbiology                             Endocrinology   \n",
      "12            Molecular biology                                 Neurology   \n",
      "13                 Neuroscience                                Psychiatry   \n",
      "14                    Nutrition                                  Timeline   \n",
      "15                    Pathology                  Psychiatric institutions   \n",
      "16                 Pharmacology                             Psychosurgery   \n",
      "17                   Physiology                                   Surgery   \n",
      "18                     Virology                   Trauma and orthopaedics   \n",
      "19                      Viruses                                      None   \n",
      "\n",
      "    Medicine in ancient societies  History of methods in medicine  \\\n",
      "0   Medicine in ancient societies  History of methods in medicine   \n",
      "1                      Prehistory                     Antibiotics   \n",
      "2                         Babylon                        Timeline   \n",
      "3                      Byzantinia               Blood transfusion   \n",
      "4                         Ancient                        Humorism   \n",
      "5                           Egypt                    Neuroimaging   \n",
      "6         Egyptian medical papyri               Radiation therapy   \n",
      "7                         Ancient             Tracheal intubation   \n",
      "8                          Greece                        Vaccines   \n",
      "9                         Ancient                        Timeline   \n",
      "10                           Iran                      Wound care   \n",
      "11                        Ancient                            None   \n",
      "12                           Rome                            None   \n",
      "13                       Medieval                            None   \n",
      "14                          Islam                            None   \n",
      "15                       Medieval                            None   \n",
      "16                        Western                            None   \n",
      "17                         Europe                            None   \n",
      "18                           None                            None   \n",
      "19                           None                            None   \n",
      "\n",
      "    Disasters and plagues  \n",
      "0   Disasters and plagues  \n",
      "1                   Black  \n",
      "2                   Death  \n",
      "3       List of epidemics  \n",
      "4                 Malaria  \n",
      "5               Pandemics  \n",
      "6                  Plague  \n",
      "7           Poliomyelitis  \n",
      "8                Smallpox  \n",
      "9                Syphilis  \n",
      "10           Tuberculosis  \n",
      "11                   None  \n",
      "12                   None  \n",
      "13                   None  \n",
      "14                   None  \n",
      "15                   None  \n",
      "16                   None  \n",
      "17                   None  \n",
      "18                   None  \n",
      "19                   None  \n"
     ]
    }
   ],
   "source": [
    "df = pd.DataFrame (results).transpose()\n",
    "df.columns = ['Histories of basic sciences', 'Histories of medical specialties', 'Medicine in ancient societies','History of methods in medicine','Disasters and plagues']\n",
    "print (df)"
   ],
   "metadata": {
    "collapsed": false,
    "pycharm": {
     "name": "#%%\n"
    }
   }
  },
  {
   "cell_type": "code",
   "execution_count": 19,
   "outputs": [
    {
     "data": {
      "text/plain": "    Histories of basic sciences          Histories of medical specialties  \\\n0   Histories of basic sciences          Histories of medical specialties   \n1                       Anatomy                      Alternative medicine   \n2                  Biochemistry                                Anesthesia   \n3                       Biology                                   General   \n4                 Biotechnology                                 Neuraxial   \n5                     Chemistry                                    Cancer   \n6                    Embryology  Cardiology (invasive and interventional)   \n7                      Genetics                         Dental treatments   \n8                    Immunology                               Dermatology   \n9                      Timeline                        Emergency medicine   \n10            Medical diagnosis                                       CPR   \n11                 Microbiology                             Endocrinology   \n12            Molecular biology                                 Neurology   \n13                 Neuroscience                                Psychiatry   \n14                    Nutrition                                  Timeline   \n15                    Pathology                  Psychiatric institutions   \n16                 Pharmacology                             Psychosurgery   \n17                   Physiology                                   Surgery   \n18                     Virology                   Trauma and orthopaedics   \n19                      Viruses                                      None   \n\n    Medicine in ancient societies  History of methods in medicine  \\\n0   Medicine in ancient societies  History of methods in medicine   \n1                      Prehistory                     Antibiotics   \n2                         Babylon                        Timeline   \n3                      Byzantinia               Blood transfusion   \n4                         Ancient                        Humorism   \n5                           Egypt                    Neuroimaging   \n6         Egyptian medical papyri               Radiation therapy   \n7                         Ancient             Tracheal intubation   \n8                          Greece                        Vaccines   \n9                         Ancient                        Timeline   \n10                           Iran                      Wound care   \n11                        Ancient                            None   \n12                           Rome                            None   \n13                       Medieval                            None   \n14                          Islam                            None   \n15                       Medieval                            None   \n16                        Western                            None   \n17                         Europe                            None   \n18                           None                            None   \n19                           None                            None   \n\n    Disasters and plagues  \n0   Disasters and plagues  \n1                   Black  \n2                   Death  \n3       List of epidemics  \n4                 Malaria  \n5               Pandemics  \n6                  Plague  \n7           Poliomyelitis  \n8                Smallpox  \n9                Syphilis  \n10           Tuberculosis  \n11                   None  \n12                   None  \n13                   None  \n14                   None  \n15                   None  \n16                   None  \n17                   None  \n18                   None  \n19                   None  ",
      "text/html": "<div>\n<style scoped>\n    .dataframe tbody tr th:only-of-type {\n        vertical-align: middle;\n    }\n\n    .dataframe tbody tr th {\n        vertical-align: top;\n    }\n\n    .dataframe thead th {\n        text-align: right;\n    }\n</style>\n<table border=\"1\" class=\"dataframe\">\n  <thead>\n    <tr style=\"text-align: right;\">\n      <th></th>\n      <th>Histories of basic sciences</th>\n      <th>Histories of medical specialties</th>\n      <th>Medicine in ancient societies</th>\n      <th>History of methods in medicine</th>\n      <th>Disasters and plagues</th>\n    </tr>\n  </thead>\n  <tbody>\n    <tr>\n      <th>0</th>\n      <td>Histories of basic sciences</td>\n      <td>Histories of medical specialties</td>\n      <td>Medicine in ancient societies</td>\n      <td>History of methods in medicine</td>\n      <td>Disasters and plagues</td>\n    </tr>\n    <tr>\n      <th>1</th>\n      <td>Anatomy</td>\n      <td>Alternative medicine</td>\n      <td>Prehistory</td>\n      <td>Antibiotics</td>\n      <td>Black</td>\n    </tr>\n    <tr>\n      <th>2</th>\n      <td>Biochemistry</td>\n      <td>Anesthesia</td>\n      <td>Babylon</td>\n      <td>Timeline</td>\n      <td>Death</td>\n    </tr>\n    <tr>\n      <th>3</th>\n      <td>Biology</td>\n      <td>General</td>\n      <td>Byzantinia</td>\n      <td>Blood transfusion</td>\n      <td>List of epidemics</td>\n    </tr>\n    <tr>\n      <th>4</th>\n      <td>Biotechnology</td>\n      <td>Neuraxial</td>\n      <td>Ancient</td>\n      <td>Humorism</td>\n      <td>Malaria</td>\n    </tr>\n    <tr>\n      <th>5</th>\n      <td>Chemistry</td>\n      <td>Cancer</td>\n      <td>Egypt</td>\n      <td>Neuroimaging</td>\n      <td>Pandemics</td>\n    </tr>\n    <tr>\n      <th>6</th>\n      <td>Embryology</td>\n      <td>Cardiology (invasive and interventional)</td>\n      <td>Egyptian medical papyri</td>\n      <td>Radiation therapy</td>\n      <td>Plague</td>\n    </tr>\n    <tr>\n      <th>7</th>\n      <td>Genetics</td>\n      <td>Dental treatments</td>\n      <td>Ancient</td>\n      <td>Tracheal intubation</td>\n      <td>Poliomyelitis</td>\n    </tr>\n    <tr>\n      <th>8</th>\n      <td>Immunology</td>\n      <td>Dermatology</td>\n      <td>Greece</td>\n      <td>Vaccines</td>\n      <td>Smallpox</td>\n    </tr>\n    <tr>\n      <th>9</th>\n      <td>Timeline</td>\n      <td>Emergency medicine</td>\n      <td>Ancient</td>\n      <td>Timeline</td>\n      <td>Syphilis</td>\n    </tr>\n    <tr>\n      <th>10</th>\n      <td>Medical diagnosis</td>\n      <td>CPR</td>\n      <td>Iran</td>\n      <td>Wound care</td>\n      <td>Tuberculosis</td>\n    </tr>\n    <tr>\n      <th>11</th>\n      <td>Microbiology</td>\n      <td>Endocrinology</td>\n      <td>Ancient</td>\n      <td>None</td>\n      <td>None</td>\n    </tr>\n    <tr>\n      <th>12</th>\n      <td>Molecular biology</td>\n      <td>Neurology</td>\n      <td>Rome</td>\n      <td>None</td>\n      <td>None</td>\n    </tr>\n    <tr>\n      <th>13</th>\n      <td>Neuroscience</td>\n      <td>Psychiatry</td>\n      <td>Medieval</td>\n      <td>None</td>\n      <td>None</td>\n    </tr>\n    <tr>\n      <th>14</th>\n      <td>Nutrition</td>\n      <td>Timeline</td>\n      <td>Islam</td>\n      <td>None</td>\n      <td>None</td>\n    </tr>\n    <tr>\n      <th>15</th>\n      <td>Pathology</td>\n      <td>Psychiatric institutions</td>\n      <td>Medieval</td>\n      <td>None</td>\n      <td>None</td>\n    </tr>\n    <tr>\n      <th>16</th>\n      <td>Pharmacology</td>\n      <td>Psychosurgery</td>\n      <td>Western</td>\n      <td>None</td>\n      <td>None</td>\n    </tr>\n    <tr>\n      <th>17</th>\n      <td>Physiology</td>\n      <td>Surgery</td>\n      <td>Europe</td>\n      <td>None</td>\n      <td>None</td>\n    </tr>\n    <tr>\n      <th>18</th>\n      <td>Virology</td>\n      <td>Trauma and orthopaedics</td>\n      <td>None</td>\n      <td>None</td>\n      <td>None</td>\n    </tr>\n    <tr>\n      <th>19</th>\n      <td>Viruses</td>\n      <td>None</td>\n      <td>None</td>\n      <td>None</td>\n      <td>None</td>\n    </tr>\n  </tbody>\n</table>\n</div>"
     },
     "execution_count": 19,
     "metadata": {},
     "output_type": "execute_result"
    }
   ],
   "source": [
    "df.iloc[0]\n",
    "df"
   ],
   "metadata": {
    "collapsed": false,
    "pycharm": {
     "name": "#%%\n"
    }
   }
  },
  {
   "cell_type": "code",
   "execution_count": 20,
   "outputs": [
    {
     "data": {
      "text/plain": "   Histories of basic sciences          Histories of medical specialties  \\\n1                      Anatomy                      Alternative medicine   \n2                 Biochemistry                                Anesthesia   \n3                      Biology                                   General   \n4                Biotechnology                                 Neuraxial   \n5                    Chemistry                                    Cancer   \n6                   Embryology  Cardiology (invasive and interventional)   \n7                     Genetics                         Dental treatments   \n8                   Immunology                               Dermatology   \n9                     Timeline                        Emergency medicine   \n10           Medical diagnosis                                       CPR   \n11                Microbiology                             Endocrinology   \n12           Molecular biology                                 Neurology   \n13                Neuroscience                                Psychiatry   \n14                   Nutrition                                  Timeline   \n15                   Pathology                  Psychiatric institutions   \n16                Pharmacology                             Psychosurgery   \n17                  Physiology                                   Surgery   \n18                    Virology                   Trauma and orthopaedics   \n19                     Viruses                                      None   \n\n   Medicine in ancient societies History of methods in medicine  \\\n1                     Prehistory                    Antibiotics   \n2                        Babylon                       Timeline   \n3                     Byzantinia              Blood transfusion   \n4                        Ancient                       Humorism   \n5                          Egypt                   Neuroimaging   \n6        Egyptian medical papyri              Radiation therapy   \n7                        Ancient            Tracheal intubation   \n8                         Greece                       Vaccines   \n9                        Ancient                       Timeline   \n10                          Iran                     Wound care   \n11                       Ancient                           None   \n12                          Rome                           None   \n13                      Medieval                           None   \n14                         Islam                           None   \n15                      Medieval                           None   \n16                       Western                           None   \n17                        Europe                           None   \n18                          None                           None   \n19                          None                           None   \n\n   Disasters and plagues  \n1                  Black  \n2                  Death  \n3      List of epidemics  \n4                Malaria  \n5              Pandemics  \n6                 Plague  \n7          Poliomyelitis  \n8               Smallpox  \n9               Syphilis  \n10          Tuberculosis  \n11                  None  \n12                  None  \n13                  None  \n14                  None  \n15                  None  \n16                  None  \n17                  None  \n18                  None  \n19                  None  ",
      "text/html": "<div>\n<style scoped>\n    .dataframe tbody tr th:only-of-type {\n        vertical-align: middle;\n    }\n\n    .dataframe tbody tr th {\n        vertical-align: top;\n    }\n\n    .dataframe thead th {\n        text-align: right;\n    }\n</style>\n<table border=\"1\" class=\"dataframe\">\n  <thead>\n    <tr style=\"text-align: right;\">\n      <th></th>\n      <th>Histories of basic sciences</th>\n      <th>Histories of medical specialties</th>\n      <th>Medicine in ancient societies</th>\n      <th>History of methods in medicine</th>\n      <th>Disasters and plagues</th>\n    </tr>\n  </thead>\n  <tbody>\n    <tr>\n      <th>1</th>\n      <td>Anatomy</td>\n      <td>Alternative medicine</td>\n      <td>Prehistory</td>\n      <td>Antibiotics</td>\n      <td>Black</td>\n    </tr>\n    <tr>\n      <th>2</th>\n      <td>Biochemistry</td>\n      <td>Anesthesia</td>\n      <td>Babylon</td>\n      <td>Timeline</td>\n      <td>Death</td>\n    </tr>\n    <tr>\n      <th>3</th>\n      <td>Biology</td>\n      <td>General</td>\n      <td>Byzantinia</td>\n      <td>Blood transfusion</td>\n      <td>List of epidemics</td>\n    </tr>\n    <tr>\n      <th>4</th>\n      <td>Biotechnology</td>\n      <td>Neuraxial</td>\n      <td>Ancient</td>\n      <td>Humorism</td>\n      <td>Malaria</td>\n    </tr>\n    <tr>\n      <th>5</th>\n      <td>Chemistry</td>\n      <td>Cancer</td>\n      <td>Egypt</td>\n      <td>Neuroimaging</td>\n      <td>Pandemics</td>\n    </tr>\n    <tr>\n      <th>6</th>\n      <td>Embryology</td>\n      <td>Cardiology (invasive and interventional)</td>\n      <td>Egyptian medical papyri</td>\n      <td>Radiation therapy</td>\n      <td>Plague</td>\n    </tr>\n    <tr>\n      <th>7</th>\n      <td>Genetics</td>\n      <td>Dental treatments</td>\n      <td>Ancient</td>\n      <td>Tracheal intubation</td>\n      <td>Poliomyelitis</td>\n    </tr>\n    <tr>\n      <th>8</th>\n      <td>Immunology</td>\n      <td>Dermatology</td>\n      <td>Greece</td>\n      <td>Vaccines</td>\n      <td>Smallpox</td>\n    </tr>\n    <tr>\n      <th>9</th>\n      <td>Timeline</td>\n      <td>Emergency medicine</td>\n      <td>Ancient</td>\n      <td>Timeline</td>\n      <td>Syphilis</td>\n    </tr>\n    <tr>\n      <th>10</th>\n      <td>Medical diagnosis</td>\n      <td>CPR</td>\n      <td>Iran</td>\n      <td>Wound care</td>\n      <td>Tuberculosis</td>\n    </tr>\n    <tr>\n      <th>11</th>\n      <td>Microbiology</td>\n      <td>Endocrinology</td>\n      <td>Ancient</td>\n      <td>None</td>\n      <td>None</td>\n    </tr>\n    <tr>\n      <th>12</th>\n      <td>Molecular biology</td>\n      <td>Neurology</td>\n      <td>Rome</td>\n      <td>None</td>\n      <td>None</td>\n    </tr>\n    <tr>\n      <th>13</th>\n      <td>Neuroscience</td>\n      <td>Psychiatry</td>\n      <td>Medieval</td>\n      <td>None</td>\n      <td>None</td>\n    </tr>\n    <tr>\n      <th>14</th>\n      <td>Nutrition</td>\n      <td>Timeline</td>\n      <td>Islam</td>\n      <td>None</td>\n      <td>None</td>\n    </tr>\n    <tr>\n      <th>15</th>\n      <td>Pathology</td>\n      <td>Psychiatric institutions</td>\n      <td>Medieval</td>\n      <td>None</td>\n      <td>None</td>\n    </tr>\n    <tr>\n      <th>16</th>\n      <td>Pharmacology</td>\n      <td>Psychosurgery</td>\n      <td>Western</td>\n      <td>None</td>\n      <td>None</td>\n    </tr>\n    <tr>\n      <th>17</th>\n      <td>Physiology</td>\n      <td>Surgery</td>\n      <td>Europe</td>\n      <td>None</td>\n      <td>None</td>\n    </tr>\n    <tr>\n      <th>18</th>\n      <td>Virology</td>\n      <td>Trauma and orthopaedics</td>\n      <td>None</td>\n      <td>None</td>\n      <td>None</td>\n    </tr>\n    <tr>\n      <th>19</th>\n      <td>Viruses</td>\n      <td>None</td>\n      <td>None</td>\n      <td>None</td>\n      <td>None</td>\n    </tr>\n  </tbody>\n</table>\n</div>"
     },
     "execution_count": 20,
     "metadata": {},
     "output_type": "execute_result"
    }
   ],
   "source": [
    "df.iloc[1:, :]"
   ],
   "metadata": {
    "collapsed": false,
    "pycharm": {
     "name": "#%%\n"
    }
   }
  },
  {
   "cell_type": "code",
   "execution_count": null,
   "outputs": [],
   "source": [],
   "metadata": {
    "collapsed": false,
    "pycharm": {
     "name": "#%%\n"
    }
   }
  }
 ],
 "metadata": {
  "kernelspec": {
   "display_name": "Python 3",
   "language": "python",
   "name": "python3"
  },
  "language_info": {
   "codemirror_mode": {
    "name": "ipython",
    "version": 2
   },
   "file_extension": ".py",
   "mimetype": "text/x-python",
   "name": "python",
   "nbconvert_exporter": "python",
   "pygments_lexer": "ipython2",
   "version": "2.7.6"
  }
 },
 "nbformat": 4,
 "nbformat_minor": 0
}